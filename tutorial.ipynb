{
 "cells": [
  {
   "cell_type": "markdown",
   "metadata": {},
   "source": [
    "### Запуск мінімальної екпертної системи\n",
    "\n",
    "В консолі CLIPS уже можна добавляти правила, факти та виконувати запуск. При використані *experta* потрібно створити об'єкт який буде симулювати в собі CLIPS "
   ]
  },
  {
   "cell_type": "code",
   "execution_count": 1,
   "metadata": {},
   "outputs": [],
   "source": [
    "from experta import KnowledgeEngine\n",
    "\n",
    "class BasicExample(KnowledgeEngine):\n",
    "    pass\n",
    "\n",
    "\n",
    "engine = BasicExample()"
   ]
  },
  {
   "cell_type": "markdown",
   "metadata": {},
   "source": [
    "В середині об'єкта створюються початкові факти, правила і функції, а запуск еспертної системи відбувається як операція над екземпляром об'єкта "
   ]
  },
  {
   "cell_type": "markdown",
   "metadata": {},
   "source": [
    "Запуск ЕС у середовищі CLIPS: "
   ]
  },
  {
   "cell_type": "markdown",
   "metadata": {},
   "source": [
    "```CLIPS\n",
    "(reset)\n",
    "(run)\n",
    "```"
   ]
  },
  {
   "cell_type": "markdown",
   "metadata": {},
   "source": [
    "Запуск ЕС у Python:"
   ]
  },
  {
   "cell_type": "code",
   "execution_count": 2,
   "metadata": {},
   "outputs": [],
   "source": [
    "engine.reset()\n",
    "engine.run()"
   ]
  },
  {
   "cell_type": "markdown",
   "metadata": {},
   "source": [
    "### Створення сутностей, шаблонів та фактів "
   ]
  },
  {
   "cell_type": "markdown",
   "metadata": {},
   "source": [
    "В середовищі CLIPS існують *deftemplate* та *defclass* для опису шаблонів фактів та сутностей предметної області. При використані *experta* використовуються лише класи."
   ]
  },
  {
   "cell_type": "markdown",
   "metadata": {},
   "source": [
    "Cтворення шаблону animal та person в середовищі CLIPS:\n",
    "```CLIPS\n",
    "(deftemplate animal\n",
    "             (slot name)\n",
    "             (slot approx_weight)\n",
    "             (slot approx_height)\n",
    "             (slot tail)\n",
    "             (slot character)\n",
    "             (multislot related_animals))\n",
    "\n",
    "(deftemplate person\n",
    "             (slot name)\n",
    "             (slot animal_kind)\n",
    "             (slot age)\n",
    "             (multislot friends)) \n",
    "\n",
    "```"
   ]
  },
  {
   "cell_type": "markdown",
   "metadata": {},
   "source": [
    "Cтворення класу animal та person мовою Python:"
   ]
  },
  {
   "cell_type": "code",
   "execution_count": 11,
   "metadata": {},
   "outputs": [],
   "source": [
    "from experta import Fact, Field\n",
    "\n",
    "# Сутність повина наслідуватися від класу experta.Fact\n",
    "class Animal(Fact):\n",
    "    # атрибути класу повині бути типу experta.Filed та мати в описаний тип даних\n",
    "    # тип даних може бути як стандартний для Python, так і бути описаним вручну\n",
    "    # mandatory вказує на обов'язковість атрибуту в класі \n",
    "    name = Field(str, mandatory=True)\n",
    "    approx_weight = Field(int, mandatory=True)\n",
    "    approx_height = Field(int, mandatory=True)\n",
    "    tail = Field(int, mandatory=True)\n",
    "    character = Field(str, mandatory=True)\n",
    "    related_animals = Field(list, mandatory=True)\n",
    "    \n",
    "    \n",
    "class Person(Fact):\n",
    "    name = Field(str, mandatory=False)\n",
    "    animal_kind = Field(str, mandatory=True)\n",
    "    age = Field(int, mandatory=True)\n",
    "    friends = Field(list, mandatory=False)"
   ]
  },
  {
   "cell_type": "markdown",
   "metadata": {},
   "source": [
    "Створимо декілька початкових фактів для ЕС. Розглянем створення через *deffacts* та *assert* "
   ]
  },
  {
   "cell_type": "markdown",
   "metadata": {},
   "source": [
    "CLIPS deffacts:\n",
    "```CLIPS\n",
    "(deffacts initfacts \"Initial Facts\"\n",
    "             (dogs are our friends)\n",
    "             (animal (name dog) (approx_weight 20) (approx_height 30) (tail 1)\n",
    "              (related_animals cat wolf) (character strong)\n",
    "             )\n",
    "             (animal (name cat) (approx_weight 4) (approx_height 10) (tail 1)\n",
    "              (character sweet) (related_animals dog wolf)\n",
    "             )\n",
    "             (animal (name wolf) (approx_weight 4) (approx_height 40) (character bad)\n",
    "             (tail 1)\n",
    "              (related_animals dog wolf)\n",
    "             )\n",
    ")\n",
    "```"
   ]
  },
  {
   "cell_type": "markdown",
   "metadata": {},
   "source": [
    "Python deffacts:"
   ]
  },
  {
   "cell_type": "code",
   "execution_count": 10,
   "metadata": {},
   "outputs": [],
   "source": [
    "from experta import DefFacts\n",
    "\n",
    "class Example1(KnowledgeEngine):\n",
    "    @DefFacts()\n",
    "    def init_pets(self):\n",
    "        yield Animal(name='dog', approx_weight=20, approx_height=30, tail=1, character='strong', related_animals=['cat', 'wolf'])\n",
    "        yield Animal(name='cat', approx_weight=4, approx_height=10, tail=1, character='sweet', related_animals=['wolf', 'dog'])      \n",
    "        yield Animal(name='wolf', approx_weight=4, approx_height=40, tail=1, character='bad', related_animals=['wolf', 'cat'])"
   ]
  },
  {
   "cell_type": "markdown",
   "metadata": {},
   "source": [
    "CLIPS assert:\n",
    "```CLIPS\n",
    "(assert (person (name Rick) (animal_kind dog) (age 3) (friends Tim Kitty)))\n",
    "(assert (person (name Tim) (animal_kind dog) (age 4) (friends Rick)))\n",
    "(assert (person (name Kitty) (animal_kind cat) (age 4) (friends Rick)))\n",
    "(assert (person (animal_kind mollusc) (age 1) (friends)))\n",
    "```"
   ]
  },
  {
   "cell_type": "markdown",
   "metadata": {},
   "source": [
    "В Python точно так само зробити не можна, потрібно або створити функцію в середині об'єкта ЕС, або добавити факти в екзепляр ЕС.\n"
   ]
  },
  {
   "cell_type": "markdown",
   "metadata": {},
   "source": [
    "Реалізація через функцію:"
   ]
  },
  {
   "cell_type": "code",
   "execution_count": 24,
   "metadata": {},
   "outputs": [],
   "source": [
    "class Example2(KnowledgeEngine):\n",
    "    def init_persons(self):\n",
    "        self.declare(Person(name=\"Rick\", animal_kind='dog', age=3, friends=['Tim', 'Kitty']))\n",
    "        self.declare(Person(name=\"Tim\", animal_kind='dog', age=4, friends=['Rick']))\n",
    "        \n",
    "engine = Example2()\n",
    "engine.reset()\n",
    "engine.init_persons()"
   ]
  },
  {
   "cell_type": "markdown",
   "metadata": {},
   "source": [
    "Додавання фактів через екземпляр ЕС:"
   ]
  },
  {
   "cell_type": "code",
   "execution_count": 25,
   "metadata": {},
   "outputs": [
    {
     "data": {
      "text/plain": [
       "Person(animal_kind='mollusc', age=1)"
      ]
     },
     "execution_count": 25,
     "metadata": {},
     "output_type": "execute_result"
    }
   ],
   "source": [
    "engine.declare(Person(name=\"Kitty\", animal_kind='dog', age=4, friends=['Rick'])) \n",
    "engine.declare(Person(animal_kind='mollusc', age=1))                   "
   ]
  },
  {
   "cell_type": "markdown",
   "metadata": {},
   "source": [
    "Переглянем список фактів\n",
    "```CLIPS\n",
    "(facts)\n",
    "```\n",
    "\n",
    "Python:"
   ]
  },
  {
   "cell_type": "code",
   "execution_count": 26,
   "metadata": {},
   "outputs": [
    {
     "data": {
      "text/plain": [
       "FactList([(0, InitialFact()),\n",
       "          (1,\n",
       "           Person(name='Rick', animal_kind='dog', age=3, friends=frozenlist(['Tim', 'Kitty']))),\n",
       "          (2,\n",
       "           Person(name='Tim', animal_kind='dog', age=4, friends=frozenlist(['Rick',]))),\n",
       "          (3,\n",
       "           Person(name='Kitty', animal_kind='dog', age=4, friends=frozenlist(['Rick',]))),\n",
       "          (4, Person(animal_kind='mollusc', age=1))])"
      ]
     },
     "execution_count": 26,
     "metadata": {},
     "output_type": "execute_result"
    }
   ],
   "source": [
    "engine.facts"
   ]
  },
  {
   "cell_type": "markdown",
   "metadata": {},
   "source": [
    "Видалення фактів за номером в CLIPS:\n",
    "```CLIPS\n",
    "(retract 1 3)\n",
    "```\n",
    "\n",
    "В Python функція приймає лише одне значення тому прийдеться її викликати двічі для досягнення того ж ефекту:"
   ]
  },
  {
   "cell_type": "code",
   "execution_count": 28,
   "metadata": {},
   "outputs": [
    {
     "ename": "IndexError",
     "evalue": "Fact not found.",
     "output_type": "error",
     "traceback": [
      "\u001b[1;31m---------------------------------------------------------------------------\u001b[0m",
      "\u001b[1;31mIndexError\u001b[0m                                Traceback (most recent call last)",
      "\u001b[1;32m<ipython-input-28-a43dd06c1f9e>\u001b[0m in \u001b[0;36m<module>\u001b[1;34m\u001b[0m\n\u001b[1;32m----> 1\u001b[1;33m \u001b[0mengine\u001b[0m\u001b[1;33m.\u001b[0m\u001b[0mretract\u001b[0m\u001b[1;33m(\u001b[0m\u001b[1;36m1\u001b[0m\u001b[1;33m)\u001b[0m\u001b[1;33m\u001b[0m\u001b[1;33m\u001b[0m\u001b[0m\n\u001b[0m\u001b[0;32m      2\u001b[0m \u001b[0mengine\u001b[0m\u001b[1;33m.\u001b[0m\u001b[0mretract\u001b[0m\u001b[1;33m(\u001b[0m\u001b[1;36m3\u001b[0m\u001b[1;33m)\u001b[0m \u001b[1;31m# якщо виконати команду ще раз, то це призведе до помилки бо факти за такими індексам відсутні\u001b[0m\u001b[1;33m\u001b[0m\u001b[1;33m\u001b[0m\u001b[0m\n",
      "\u001b[1;32m~\\anaconda3\\lib\\site-packages\\experta\\engine.py\u001b[0m in \u001b[0;36mretract\u001b[1;34m(self, idx_or_declared_fact)\u001b[0m\n\u001b[0;32m    122\u001b[0m             \u001b[0mThis\u001b[0m \u001b[0mupdates\u001b[0m \u001b[0mthe\u001b[0m \u001b[0magenda\u001b[0m\u001b[1;33m\u001b[0m\u001b[1;33m\u001b[0m\u001b[0m\n\u001b[0;32m    123\u001b[0m         \"\"\"\n\u001b[1;32m--> 124\u001b[1;33m         \u001b[0mself\u001b[0m\u001b[1;33m.\u001b[0m\u001b[0mfacts\u001b[0m\u001b[1;33m.\u001b[0m\u001b[0mretract\u001b[0m\u001b[1;33m(\u001b[0m\u001b[0midx_or_declared_fact\u001b[0m\u001b[1;33m)\u001b[0m\u001b[1;33m\u001b[0m\u001b[1;33m\u001b[0m\u001b[0m\n\u001b[0m\u001b[0;32m    125\u001b[0m \u001b[1;33m\u001b[0m\u001b[0m\n\u001b[0;32m    126\u001b[0m         \u001b[1;32mif\u001b[0m \u001b[1;32mnot\u001b[0m \u001b[0mself\u001b[0m\u001b[1;33m.\u001b[0m\u001b[0mrunning\u001b[0m\u001b[1;33m:\u001b[0m\u001b[1;33m\u001b[0m\u001b[1;33m\u001b[0m\u001b[0m\n",
      "\u001b[1;32m~\\anaconda3\\lib\\site-packages\\experta\\factlist.py\u001b[0m in \u001b[0;36mretract\u001b[1;34m(self, idx_or_fact)\u001b[0m\n\u001b[0;32m    109\u001b[0m \u001b[1;33m\u001b[0m\u001b[0m\n\u001b[0;32m    110\u001b[0m         \u001b[1;32mif\u001b[0m \u001b[0midx\u001b[0m \u001b[1;32mnot\u001b[0m \u001b[1;32min\u001b[0m \u001b[0mself\u001b[0m\u001b[1;33m:\u001b[0m\u001b[1;33m\u001b[0m\u001b[1;33m\u001b[0m\u001b[0m\n\u001b[1;32m--> 111\u001b[1;33m             \u001b[1;32mraise\u001b[0m \u001b[0mIndexError\u001b[0m\u001b[1;33m(\u001b[0m\u001b[1;34m'Fact not found.'\u001b[0m\u001b[1;33m)\u001b[0m\u001b[1;33m\u001b[0m\u001b[1;33m\u001b[0m\u001b[0m\n\u001b[0m\u001b[0;32m    112\u001b[0m \u001b[1;33m\u001b[0m\u001b[0m\n\u001b[0;32m    113\u001b[0m         \u001b[0mfact\u001b[0m \u001b[1;33m=\u001b[0m \u001b[0mself\u001b[0m\u001b[1;33m[\u001b[0m\u001b[0midx\u001b[0m\u001b[1;33m]\u001b[0m\u001b[1;33m\u001b[0m\u001b[1;33m\u001b[0m\u001b[0m\n",
      "\u001b[1;31mIndexError\u001b[0m: Fact not found."
     ]
    }
   ],
   "source": [
    "engine.retract(1)\n",
    "engine.retract(3) # якщо виконати команду ще раз, то це призведе до помилки бо факти за такими індексам відсутні "
   ]
  },
  {
   "cell_type": "code",
   "execution_count": null,
   "metadata": {},
   "outputs": [],
   "source": []
  }
 ],
 "metadata": {
  "kernelspec": {
   "display_name": "Python 3",
   "language": "python",
   "name": "python3"
  },
  "language_info": {
   "codemirror_mode": {
    "name": "ipython",
    "version": 3
   },
   "file_extension": ".py",
   "mimetype": "text/x-python",
   "name": "python",
   "nbconvert_exporter": "python",
   "pygments_lexer": "ipython3",
   "version": "3.8.3"
  }
 },
 "nbformat": 4,
 "nbformat_minor": 4
}
