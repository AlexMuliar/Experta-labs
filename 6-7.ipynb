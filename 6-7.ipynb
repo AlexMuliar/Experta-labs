{
 "cells": [
  {
   "cell_type": "code",
   "execution_count": 1,
   "metadata": {},
   "outputs": [],
   "source": [
    "from experta import Fact, Rule, KnowledgeEngine, Field, DefFacts, AS, factlist, MATCH, L, W, P, TEST, AND, OR\n",
    "import schema"
   ]
  },
  {
   "cell_type": "code",
   "execution_count": 2,
   "metadata": {},
   "outputs": [],
   "source": [
    "class Animal(Fact):\n",
    "    name = Field(str, mandatory=True)\n",
    "    approx_weight = Field(int, mandatory=True)\n",
    "#     approx_height = Field(int, mandatory=True)\n",
    "    tail = Field(int, mandatory=True)\n",
    "#     character = Field(str, mandatory=True)\n",
    "    water = Field(bool, mandatory=True)\n",
    "    related_animals = Field(list, mandatory=True)"
   ]
  },
  {
   "cell_type": "code",
   "execution_count": 3,
   "metadata": {},
   "outputs": [],
   "source": [
    "class Person(Fact):\n",
    "    name = Field(str, mandatory=False)\n",
    "    animal_kind = Field(str, mandatory=True)\n",
    "    age = Field(int, mandatory=True)\n",
    "    friends = Field(list, mandatory=False)"
   ]
  },
  {
   "cell_type": "code",
   "execution_count": 4,
   "metadata": {},
   "outputs": [],
   "source": [
    "class Lab(KnowledgeEngine):\n",
    "    @Rule(Animal(water=True))\n",
    "    def findTailWaterAnimal(self):\n",
    "        print('Found tail water animal!')\n",
    "    \n",
    "        \n",
    "    @Rule(Animal(related_animals=MATCH.related_animals))\n",
    "    def findDogRelative(self, related_animals):\n",
    "        if 'dog' in related_animals:\n",
    "            print('Found dog relative!')\n",
    "        \n",
    "\n",
    "    @Rule(Person(friends=MATCH.friends))\n",
    "    def findKittyFriends(self, friends):\n",
    "        if 'Kitty' in friends:\n",
    "            print('Find Kitty Friends')\n",
    "            \n",
    "    @Rule(Person(animal_kind=~L('cat'), name=MATCH.name, friends=MATCH.friends))\n",
    "    def findAnimals(self, name, friends):\n",
    "        print(f'{name} and his friend (not cat) {\", \".join(list(friends))}')\n",
    "        \n",
    "    \n",
    "    @Rule(AS.person << Person(name=P(lambda x: len(x) < 5), friends=P(lambda x: x[0] == \"T\")))\n",
    "    def PredicateFindAnimals(self, person,  friends):\n",
    "        for fr in friends:\n",
    "            print(f'{person.as_dict()[\"name\"]} and his friend (T...) {fr}' )\n",
    "                    \n",
    "    \n",
    "    @Rule(Person(animal_kind=MATCH.animal_kind, age=MATCH.age),\n",
    "          Animal(name=MATCH.name, approx_weight=MATCH.approx_weight),\n",
    "          TEST(lambda name, animal_kind: animal_kind == name),\n",
    "          TEST(lambda age, approx_weight: age < approx_weight / 5)\n",
    "         )\n",
    "    def f(self, name, age, animal_kind, approx_weight):\n",
    "        print(name, animal_kind, age, approx_weight)\n"
   ]
  },
  {
   "cell_type": "code",
   "execution_count": 5,
   "metadata": {},
   "outputs": [],
   "source": [
    "eng = Lab()"
   ]
  },
  {
   "cell_type": "code",
   "execution_count": 6,
   "metadata": {},
   "outputs": [
    {
     "data": {
      "text/plain": [
       "FactList([(0, InitialFact()),\n",
       "          (1,\n",
       "           Animal(name='dog', tail=1, water=False, approx_weight=20, approx_height=30, related_animals=frozenlist(['wolf',]))),\n",
       "          (2,\n",
       "           Animal(name='wolf', tail=1, water=False, approx_weight=4, approx_height=10, related_animals=frozenlist(['dog', 'koyote']))),\n",
       "          (3,\n",
       "           Animal(name='shark', tail=1, water=True, approx_weight=4, approx_height=40, related_animals=frozenlist(['fish',])))])"
      ]
     },
     "execution_count": 6,
     "metadata": {},
     "output_type": "execute_result"
    }
   ],
   "source": [
    "eng.reset()\n",
    "eng.declare(Animal(name='dog', tail=1, water=False, approx_weight=20, approx_height=30, related_animals=['wolf']))\n",
    "eng.declare(Animal(name='wolf', tail=1, water=False,  approx_weight=4, approx_height=10, related_animals=['dog', 'koyote']))\n",
    "eng.declare(Animal(name='shark', tail=1, water=True, approx_weight=4, approx_height=40, related_animals=['fish']))\n",
    "eng.facts"
   ]
  },
  {
   "cell_type": "code",
   "execution_count": 7,
   "metadata": {},
   "outputs": [
    {
     "name": "stdout",
     "output_type": "stream",
     "text": [
      "Found tail water animal!\n",
      "Found dog relative!\n"
     ]
    }
   ],
   "source": [
    "eng.run()"
   ]
  },
  {
   "cell_type": "code",
   "execution_count": 8,
   "metadata": {},
   "outputs": [
    {
     "name": "stdout",
     "output_type": "stream",
     "text": [
      "Kitty and his friend (not cat) Rick\n",
      "dog dog 3 20\n",
      "Find Kitty Friends\n",
      "Rick and his friend (not cat) Tim, Kitty\n"
     ]
    }
   ],
   "source": [
    "eng.declare(Person(name=\"Rick\", animal_kind='dog', age=3, friends=['Tim', 'Kitty']))\n",
    "eng.declare(Person(name=\"Tim\", animal_kind='cat', age=4, friends=['Rick']))\n",
    "eng.declare(Person(name=\"Kitty\", animal_kind='dog', age=4, friends=['Rick'])) \n",
    "eng.run()"
   ]
  },
  {
   "cell_type": "code",
   "execution_count": 9,
   "metadata": {},
   "outputs": [
    {
     "data": {
      "text/plain": [
       "FactList()"
      ]
     },
     "execution_count": 9,
     "metadata": {},
     "output_type": "execute_result"
    }
   ],
   "source": [
    "eng.facts.clear()\n",
    "eng.facts"
   ]
  },
  {
   "cell_type": "code",
   "execution_count": null,
   "metadata": {},
   "outputs": [],
   "source": []
  }
 ],
 "metadata": {
  "kernelspec": {
   "display_name": "Python 3",
   "language": "python",
   "name": "python3"
  },
  "language_info": {
   "codemirror_mode": {
    "name": "ipython",
    "version": 3
   },
   "file_extension": ".py",
   "mimetype": "text/x-python",
   "name": "python",
   "nbconvert_exporter": "python",
   "pygments_lexer": "ipython3",
   "version": "3.8.3"
  }
 },
 "nbformat": 4,
 "nbformat_minor": 4
}
