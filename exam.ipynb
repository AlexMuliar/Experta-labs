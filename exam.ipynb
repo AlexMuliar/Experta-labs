{
 "cells": [
  {
   "cell_type": "code",
   "execution_count": 2,
   "metadata": {},
   "outputs": [],
   "source": [
    "from experta import *"
   ]
  },
  {
   "cell_type": "code",
   "execution_count": 16,
   "metadata": {},
   "outputs": [],
   "source": [
    "class Transport(Fact):\n",
    "    name = Field(str)\n",
    "    count_wheels = Field(int)\n",
    "    fuel = Field(str)\n",
    "    t_type = Field(str) \n",
    "    "
   ]
  },
  {
   "cell_type": "code",
   "execution_count": 51,
   "metadata": {},
   "outputs": [
    {
     "name": "stdout",
     "output_type": "stream",
     "text": [
      "Transport Belaz of type track has 6 wheels\n",
      "Transport Buhanka of type track has 4 wheels\n",
      "Transport Mersedes 6x6 of type car has 6 wheels\n"
     ]
    }
   ],
   "source": [
    "class ES(KnowledgeEngine):\n",
    "    @DefFacts()\n",
    "    def init(self):\n",
    "        yield (Transport(name='Mersedes S200', count_wheels=4, fuel='benzine', t_type='car'))\n",
    "        yield (Transport(name='Aston Martin Fantom', count_wheels=4, fuel='dizel', t_type='car'))\n",
    "        yield (Transport(name='Mersedes 6x6', count_wheels=6, fuel='benzine', t_type='car'))\n",
    "\n",
    "        yield (Transport(name='Buhanka', count_wheels=4, fuel='benzine', t_type='track')) \n",
    "        yield (Transport(name='Belaz', count_wheels=6, fuel='dizel', t_type='track'))\n",
    "    \n",
    "    NEED_WHEELS_FOR_CAR = 6\n",
    "    \n",
    "    def es_print(self, t):\n",
    "        t = t.as_dict()\n",
    "        def f1():\n",
    "            print(f\"Transport {t['name']} of type track has {t['count_wheels']} wheels\")\n",
    "        def f2():\n",
    "            print(f\"Transport {t['name']} of type car has {self.NEED_WHEELS_FOR_CAR} wheels\")\n",
    "        \n",
    "        if t['t_type'] == 'track': f1()\n",
    "        if t['t_type'] == 'car': f2()\n",
    "\n",
    "    \n",
    "            \n",
    "    @Rule(OR(\n",
    "        AS.t << Transport(t_type='car', count_wheels=NEED_WHEELS_FOR_CAR),\n",
    "        AS.t << Transport(t_type='track')\n",
    "    ))\n",
    "    def rule(self, t):\n",
    "        self.es_print(t)\n",
    "        \n",
    "        \n",
    "\n",
    "e = ES()\n",
    "e.reset()\n",
    "e.run()"
   ]
  },
  {
   "cell_type": "code",
   "execution_count": null,
   "metadata": {},
   "outputs": [],
   "source": []
  }
 ],
 "metadata": {
  "kernelspec": {
   "display_name": "Python 3",
   "language": "python",
   "name": "python3"
  },
  "language_info": {
   "codemirror_mode": {
    "name": "ipython",
    "version": 3
   },
   "file_extension": ".py",
   "mimetype": "text/x-python",
   "name": "python",
   "nbconvert_exporter": "python",
   "pygments_lexer": "ipython3",
   "version": "3.8.3"
  }
 },
 "nbformat": 4,
 "nbformat_minor": 4
}
