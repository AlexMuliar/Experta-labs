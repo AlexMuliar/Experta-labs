{
 "cells": [
  {
   "cell_type": "markdown",
   "metadata": {},
   "source": [
    "## Запуск мінімальної екпертної системи\n",
    "\n",
    "В консолі CLIPS уже можна добавляти правила, факти та виконувати запуск. При використані *experta* потрібно створити об'єкт який буде симулювати в собі CLIPS "
   ]
  },
  {
   "cell_type": "code",
   "execution_count": 1,
   "metadata": {},
   "outputs": [],
   "source": [
    "from experta import KnowledgeEngine\n",
    "\n",
    "class BasicExample(KnowledgeEngine):\n",
    "    pass\n",
    "\n",
    "\n",
    "engine = BasicExample()"
   ]
  },
  {
   "cell_type": "markdown",
   "metadata": {},
   "source": [
    "В середині об'єкта створюються початкові факти, правила і функції, а запуск еспертної системи відбувається як операція над екземпляром об'єкта "
   ]
  },
  {
   "cell_type": "markdown",
   "metadata": {},
   "source": [
    "Запуск ЕС у середовищі CLIPS: "
   ]
  },
  {
   "cell_type": "markdown",
   "metadata": {},
   "source": [
    "```CLIPS\n",
    "(reset)\n",
    "(run)\n",
    "```"
   ]
  },
  {
   "cell_type": "markdown",
   "metadata": {},
   "source": [
    "Запуск ЕС у Python:"
   ]
  },
  {
   "cell_type": "code",
   "execution_count": 2,
   "metadata": {},
   "outputs": [],
   "source": [
    "engine.reset()\n",
    "engine.run()"
   ]
  },
  {
   "cell_type": "markdown",
   "metadata": {},
   "source": [
    "## Створення сутностей, шаблонів та фактів "
   ]
  },
  {
   "cell_type": "markdown",
   "metadata": {},
   "source": [
    "В середовищі CLIPS існують *deftemplate* та *defclass* для опису шаблонів фактів та сутностей предметної області. При використані *experta* використовуються лише класи."
   ]
  },
  {
   "cell_type": "markdown",
   "metadata": {},
   "source": [
    "Cтворення шаблону animal та person в середовищі CLIPS:\n",
    "```CLIPS\n",
    "(deftemplate animal\n",
    "             (slot name)\n",
    "             (slot approx_weight)\n",
    "             (slot approx_height)\n",
    "             (slot tail)\n",
    "             (slot character)\n",
    "             (multislot related_animals))\n",
    "\n",
    "(deftemplate person\n",
    "             (slot name)\n",
    "             (slot animal_kind)\n",
    "             (slot age)\n",
    "             (multislot friends)) \n",
    "\n",
    "```"
   ]
  },
  {
   "cell_type": "markdown",
   "metadata": {},
   "source": [
    "Cтворення класу animal та person мовою Python:"
   ]
  },
  {
   "cell_type": "code",
   "execution_count": 3,
   "metadata": {},
   "outputs": [],
   "source": [
    "from experta import Fact, Field\n",
    "\n",
    "# Сутність повина наслідуватися від класу experta.Fact\n",
    "class Animal(Fact):\n",
    "    # атрибути класу повині бути типу experta.Filed та мати в описаний тип даних\n",
    "    # тип даних може бути як стандартний для Python, так і бути описаним вручну\n",
    "    # mandatory вказує на обов'язковість атрибуту в класі \n",
    "    name = Field(str, mandatory=True)\n",
    "    approx_weight = Field(int, mandatory=True)\n",
    "    approx_height = Field(int, mandatory=True)\n",
    "    tail = Field(int, mandatory=True)\n",
    "    character = Field(str, mandatory=True)\n",
    "    related_animals = Field(list, mandatory=True)\n",
    "    \n",
    "    \n",
    "class Person(Fact):\n",
    "    name = Field(str, mandatory=False)\n",
    "    animal_kind = Field(str, mandatory=True)\n",
    "    age = Field(int, mandatory=True)\n",
    "    friends = Field(list, mandatory=False)"
   ]
  },
  {
   "cell_type": "markdown",
   "metadata": {},
   "source": [
    "Створимо декілька початкових фактів для ЕС. Розглянем створення через *deffacts* та *assert* "
   ]
  },
  {
   "cell_type": "markdown",
   "metadata": {},
   "source": [
    "CLIPS deffacts:\n",
    "```CLIPS\n",
    "(deffacts initfacts \"Initial Facts\"\n",
    "             (dogs are our friends)\n",
    "             (animal (name dog) (approx_weight 20) (approx_height 30) (tail 1)\n",
    "              (related_animals cat wolf) (character strong)\n",
    "             )\n",
    "             (animal (name cat) (approx_weight 4) (approx_height 10) (tail 1)\n",
    "              (character sweet) (related_animals dog wolf)\n",
    "             )\n",
    "             (animal (name wolf) (approx_weight 4) (approx_height 40) (character bad)\n",
    "             (tail 1)\n",
    "              (related_animals dog wolf)\n",
    "             )\n",
    ")\n",
    "```"
   ]
  },
  {
   "cell_type": "markdown",
   "metadata": {},
   "source": [
    "Python deffacts:"
   ]
  },
  {
   "cell_type": "code",
   "execution_count": 4,
   "metadata": {},
   "outputs": [],
   "source": [
    "from experta import DefFacts\n",
    "\n",
    "class Example1(KnowledgeEngine):\n",
    "    @DefFacts()\n",
    "    def init_pets(self):\n",
    "        yield Animal(name='dog', approx_weight=20, approx_height=30, tail=1, character='strong', related_animals=['cat', 'wolf'])\n",
    "        yield Animal(name='cat', approx_weight=4, approx_height=10, tail=1, character='sweet', related_animals=['wolf', 'dog'])      \n",
    "        yield Animal(name='wolf', approx_weight=4, approx_height=40, tail=1, character='bad', related_animals=['wolf', 'cat'])"
   ]
  },
  {
   "cell_type": "markdown",
   "metadata": {},
   "source": [
    "CLIPS assert:\n",
    "```CLIPS\n",
    "(assert (person (name Rick) (animal_kind dog) (age 3) (friends Tim Kitty)))\n",
    "(assert (person (name Tim) (animal_kind dog) (age 4) (friends Rick)))\n",
    "(assert (person (name Kitty) (animal_kind cat) (age 4) (friends Rick)))\n",
    "(assert (person (animal_kind mollusc) (age 1) (friends)))\n",
    "```"
   ]
  },
  {
   "cell_type": "markdown",
   "metadata": {},
   "source": [
    "В Python точно так само зробити не можна, потрібно або створити функцію в середині об'єкта ЕС, або добавити факти в екзепляр ЕС.\n"
   ]
  },
  {
   "cell_type": "markdown",
   "metadata": {},
   "source": [
    "Реалізація через функцію:"
   ]
  },
  {
   "cell_type": "code",
   "execution_count": 5,
   "metadata": {},
   "outputs": [],
   "source": [
    "class Example2(KnowledgeEngine):\n",
    "    def init_persons(self):\n",
    "        self.declare(Person(name=\"Rick\", animal_kind='dog', age=3, friends=['Tim', 'Kitty']))\n",
    "        self.declare(Person(name=\"Tim\", animal_kind='dog', age=4, friends=['Rick']))\n",
    "        \n",
    "engine = Example2()\n",
    "engine.reset()\n",
    "engine.init_persons()"
   ]
  },
  {
   "cell_type": "markdown",
   "metadata": {},
   "source": [
    "Додавання фактів через екземпляр ЕС:"
   ]
  },
  {
   "cell_type": "code",
   "execution_count": 6,
   "metadata": {},
   "outputs": [
    {
     "data": {
      "text/plain": [
       "Person(animal_kind='mollusc', age=1)"
      ]
     },
     "execution_count": 6,
     "metadata": {},
     "output_type": "execute_result"
    }
   ],
   "source": [
    "engine.declare(Person(name=\"Kitty\", animal_kind='dog', age=4, friends=['Rick'])) \n",
    "engine.declare(Person(animal_kind='mollusc', age=1))                   "
   ]
  },
  {
   "cell_type": "markdown",
   "metadata": {},
   "source": [
    "Переглянем список фактів.\n",
    "CLIPS:\n",
    "```CLIPS\n",
    "(facts)\n",
    "```\n",
    "\n",
    "Python:"
   ]
  },
  {
   "cell_type": "code",
   "execution_count": 7,
   "metadata": {},
   "outputs": [
    {
     "data": {
      "text/plain": [
       "FactList([(0, InitialFact()),\n",
       "          (1,\n",
       "           Person(name='Rick', animal_kind='dog', age=3, friends=frozenlist(['Tim', 'Kitty']))),\n",
       "          (2,\n",
       "           Person(name='Tim', animal_kind='dog', age=4, friends=frozenlist(['Rick',]))),\n",
       "          (3,\n",
       "           Person(name='Kitty', animal_kind='dog', age=4, friends=frozenlist(['Rick',]))),\n",
       "          (4, Person(animal_kind='mollusc', age=1))])"
      ]
     },
     "execution_count": 7,
     "metadata": {},
     "output_type": "execute_result"
    }
   ],
   "source": [
    "engine.facts"
   ]
  },
  {
   "cell_type": "markdown",
   "metadata": {},
   "source": [
    "Видалення фактів за номером в CLIPS:\n",
    "```CLIPS\n",
    "(retract 1 3)\n",
    "```\n",
    "\n",
    "В Python функція приймає лише одне значення тому прийдеться її викликати двічі для досягнення того ж ефекту:"
   ]
  },
  {
   "cell_type": "code",
   "execution_count": 8,
   "metadata": {},
   "outputs": [],
   "source": [
    "engine.retract(1)\n",
    "engine.retract(3) # якщо виконати команду ще раз, то це призведе до помилки бо факти за такими індексам відсутні "
   ]
  },
  {
   "cell_type": "markdown",
   "metadata": {},
   "source": [
    "Модифікуєм факт у середовищі CLIPS:\n",
    "```CLIPS\n",
    "(modify 2 (age 5))\n",
    "```\n",
    "\n",
    "Python:"
   ]
  },
  {
   "cell_type": "code",
   "execution_count": 9,
   "metadata": {},
   "outputs": [
    {
     "data": {
      "text/plain": [
       "FactList([(0, InitialFact()),\n",
       "          (4, Person(animal_kind='mollusc', age=1)),\n",
       "          (5,\n",
       "           Person(name='Tim', animal_kind='dog', age=5, friends=frozenlist(['Rick',])))])"
      ]
     },
     "execution_count": 9,
     "metadata": {},
     "output_type": "execute_result"
    }
   ],
   "source": [
    "engine.declare(engine.modify(engine.facts[2], age=5))\n",
    "engine.facts"
   ]
  },
  {
   "cell_type": "markdown",
   "metadata": {},
   "source": [
    "Як бачимо, напряму редактувати факт не можна, його треба витягнути і заново вставити змінений, це призводить до зміщення індексації(факт 2 став 5), що може збити з толку в деяких випаках"
   ]
  },
  {
   "cell_type": "markdown",
   "metadata": {},
   "source": [
    "Видалимо усі факти. CLIPS:\n",
    "```CLIPS\n",
    "(clear)\n",
    "```\n",
    "Python:"
   ]
  },
  {
   "cell_type": "code",
   "execution_count": 10,
   "metadata": {},
   "outputs": [
    {
     "data": {
      "text/plain": [
       "FactList()"
      ]
     },
     "execution_count": 10,
     "metadata": {},
     "output_type": "execute_result"
    }
   ],
   "source": [
    "engine.facts.clear() # факти зберігаються в звичайному списку, і дана функція стандартна для списку Python\n",
    "engine.facts"
   ]
  },
  {
   "cell_type": "markdown",
   "metadata": {},
   "source": [
    "## Створення правил"
   ]
  },
  {
   "cell_type": "markdown",
   "metadata": {},
   "source": [
    "Я створюю клас ЕС, від якого буду наслідувати наступні приклади. В класі я добавлю початкові факти, це дозволить уникнути дублювання коду в наступних прикладах, а також дещо змінню класи сутностей"
   ]
  },
  {
   "cell_type": "code",
   "execution_count": 11,
   "metadata": {},
   "outputs": [],
   "source": [
    "class Animal(Fact):\n",
    "    name = Field(str, mandatory=True)\n",
    "    approx_weight = Field(int, mandatory=False)\n",
    "    approx_height = Field(int, mandatory=False)\n",
    "    tail = Field(int, mandatory=True)\n",
    "    water = Field(bool, mandatory=True)\n",
    "    related_animals = Field(list, mandatory=True)\n",
    "\n",
    "    \n",
    "class Person(Fact):\n",
    "    name = Field(str, mandatory=False)\n",
    "    animal_kind = Field(str, mandatory=True)\n",
    "    age = Field(int, mandatory=True)\n",
    "    friends = Field(list, mandatory=False)\n",
    "    \n",
    "\n",
    "class ExampleRules(KnowledgeEngine):\n",
    "    @DefFacts()\n",
    "    def init_facts(self):\n",
    "        yield (Animal(name='dog', tail=1, water=False, approx_weight=20, approx_height=30, related_animals=['wolf']))\n",
    "        yield (Animal(name='wolf', tail=1, water=False,  approx_weight=4, approx_height=10, related_animals=['dog', 'koyote']))\n",
    "        yield (Animal(name='shark', tail=1, water=True, approx_weight=4, approx_height=40, related_animals=['fish']))\n",
    "        yield (Person(name=\"Rick\", animal_kind='dog', age=3, friends=['Tim', 'Kitty']))\n",
    "        yield (Person(name=\"Tim\", animal_kind='cat', age=4, friends=['Rick']))\n",
    "        yield (Person(name=\"Kitty\", animal_kind='dog', age=4, friends=['Rick'])) "
   ]
  },
  {
   "cell_type": "markdown",
   "metadata": {},
   "source": [
    "##### Задайте правила для яких умовним елементом є зразок з певними символьними обмеженнями для знаходження впорядкованих або невпорядкованих фактів:"
   ]
  },
  {
   "cell_type": "markdown",
   "metadata": {},
   "source": [
    "CLIPS:\n",
    "```CLIPS\n",
    "(defrule FindTailWaterAnimal\n",
    "      (animal (tail 1) (life_environment water))\n",
    "    =>\n",
    "      (printout t crlf “Found tail water animal!” crlf)\n",
    "    ) \n",
    "```\n",
    "Python:"
   ]
  },
  {
   "cell_type": "code",
   "execution_count": 12,
   "metadata": {},
   "outputs": [
    {
     "name": "stdout",
     "output_type": "stream",
     "text": [
      "Found tail water animal!\n"
     ]
    }
   ],
   "source": [
    "from experta import Rule\n",
    "\n",
    "class Example(ExampleRules):\n",
    "    # Правило задається за допомогою декоратора Rule\n",
    "    @Rule(Animal(water=True))\n",
    "    def findTailWaterAnimal(self):\n",
    "        print('Found tail water animal!')\n",
    "        \n",
    "engine = Example()\n",
    "engine.reset()\n",
    "engine.run()"
   ]
  },
  {
   "cell_type": "markdown",
   "metadata": {},
   "source": [
    "##### Правило, зразку якого відповідають факти, що визначать тварин, які є родичами собаки:"
   ]
  },
  {
   "cell_type": "markdown",
   "metadata": {},
   "source": [
    "CLIPS:\n",
    "```CLIPS\n",
    "(defrule FindDogRelative\n",
    "      (animal (related_animals dog))\n",
    "    =>\n",
    "      (printout t crlf “Found dog relative!” crlf)\n",
    "    ) \n",
    "\n",
    "```\n",
    "У Python немає можливості зробити в точності як в CLIPS, для того щоб зробити перевірку ```'dog' in [...]``` потрібно виокремити зміну та працювати з нею, або в декораторі, або в тілі функції. Працювати із змінною в тілі функції простіше, так і поступим:"
   ]
  },
  {
   "cell_type": "code",
   "execution_count": 13,
   "metadata": {},
   "outputs": [
    {
     "name": "stdout",
     "output_type": "stream",
     "text": [
      "Found dog relative!\n"
     ]
    }
   ],
   "source": [
    "from experta import MATCH \n",
    "    \n",
    "class Example(ExampleRules):\n",
    "    # Match.name дозволяє передати name в функцію\n",
    "    # Ім'я не обов'язково має співпадати з назвою атрибута сутності\n",
    "    # Наприклад: name=MATCH.n передасть в функцію значення n\n",
    "    # Якщо MATCH застосовується до зміни яку не треба передавати в середину функції, то її можна просто не приймати\n",
    "    @Rule(Animal(related_animals=MATCH.related_animals))\n",
    "    def findDogRelative(self, related_animals):\n",
    "        if 'dog' in related_animals:\n",
    "            print('Found dog relative!')\n",
    "        \n",
    "engine = Example()\n",
    "engine.reset()\n",
    "engine.run()"
   ]
  },
  {
   "cell_type": "markdown",
   "metadata": {},
   "source": [
    "Команда *ppdefrule* у Python відсутня, як і збереження правил і фактів і вигляді файлівю Якщо потрібно подібний функціонал, то рекоменується розглянути питання серіалізації у мові Python, в часності документи **Yaml**"
   ]
  },
  {
   "cell_type": "markdown",
   "metadata": {},
   "source": [
    "##### Задайте правила для яких умовним елементом є зразок в якому використовуються символьні обмеження та групові символи всіх видів для знаходження впорядкованих або невпорядкованих фактів.\n",
    "\n",
    "    Правило, зразку якого відповідають факти, що визначають тварину з будь-яким ім’я у віці 3х років і яка товаришує з Kitty та, можливо, з іншими тваринами\n"
   ]
  },
  {
   "cell_type": "markdown",
   "metadata": {},
   "source": [
    "CLIPS:\n",
    "```CLIPS\n",
    "(defrule FindKittyFriends\n",
    "        (person (name ?) (age 3) (friends $? Kitty $?))\n",
    "        =>\n",
    "        (printout t crlf “Found Kitty friend!” crlf)\n",
    "        ) \n",
    "```\n",
    "Python:"
   ]
  },
  {
   "cell_type": "code",
   "execution_count": 14,
   "metadata": {},
   "outputs": [
    {
     "name": "stdout",
     "output_type": "stream",
     "text": [
      "Find Kitty Friends\n"
     ]
    }
   ],
   "source": [
    "class Example(ExampleRules):\n",
    "    @Rule(Person(age=3, friends=MATCH.friends))\n",
    "    def findKittyFriends(self, friends):\n",
    "        if 'Kitty' in friends:\n",
    "            print('Find Kitty Friends')\n",
    "        \n",
    "engine = Example()\n",
    "engine.reset()\n",
    "engine.run()"
   ]
  },
  {
   "cell_type": "markdown",
   "metadata": {},
   "source": [
    "##### Задайте правила у яких використовуються зв’язуючі обмеження різних типів:\n",
    "\n",
    "    Дане правило знайде всі пари тварин та їх друзів, які не є котами (кішками):\n"
   ]
  },
  {
   "cell_type": "markdown",
   "metadata": {},
   "source": [
    "CLIPS:\n",
    "```CLIPS\n",
    "(defrule FindAnimals\n",
    "        (person (name ?xname) (friends $? ?x $?))\n",
    "        (person (name ?x) (animal_kind ~cat))\n",
    "        =>\n",
    "        (printout t crlf “Animal ”  ?xname “ and his friend (not cat) ” ?x crlf)\n",
    "        )\n",
    "```\n",
    "Python:"
   ]
  },
  {
   "cell_type": "code",
   "execution_count": 15,
   "metadata": {},
   "outputs": [
    {
     "name": "stdout",
     "output_type": "stream",
     "text": [
      "Kitty and his friend (not cat) Rick\n",
      "Rick and his friend (not cat) Tim, Kitty\n"
     ]
    }
   ],
   "source": [
    "from experta import L\n",
    "\n",
    "# В Python не можна проводити тіж операції над строками, що у CLIPS, наприклад операція \"не\"\n",
    "# Якщо нам потрібний такий функціонал, потрібно використати Literal - клас L з бібліотеки experta \n",
    "\n",
    "class Example(ExampleRules):\n",
    "    @Rule(Person(animal_kind=~L('cat'), name=MATCH.name, friends=MATCH.friends))\n",
    "    def findAnimals(self, name, friends):\n",
    "        print(f'{name} and his friend (not cat) {\", \".join(list(friends))}')\n",
    "        \n",
    "engine = Example()\n",
    "engine.reset()\n",
    "engine.run()"
   ]
  },
  {
   "cell_type": "markdown",
   "metadata": {},
   "source": [
    "##### Задайте правила у яких використовуються предикатні обмеження:\n",
    "\n",
    "    Дане правило знайде всіх тварин, що мають ім’я довжиною до 5 літер, та їх друзів, у яких ім’я починається літерою “T”:\n",
    "CLIPS:\n",
    "```CLIPS\n",
    "(defrule PredicateFindAnimals\n",
    "        (person (name ?xname&:(< (str-length ?xname) 5))\n",
    "         (friends $? ?x&:(= 0 (str-compare (sub-string 1 1 (upcase ?x)) “T”)) $?))\n",
    "        =>\n",
    "        (printout t crlf “Animal ”  ?xname “ and his friend (‘T…’) ” ?x crlf)\n",
    "        )\n",
    "```\n",
    "Python:"
   ]
  },
  {
   "cell_type": "code",
   "execution_count": 16,
   "metadata": {},
   "outputs": [
    {
     "name": "stdout",
     "output_type": "stream",
     "text": [
      "Rick and his friend (T...) Tim\n",
      "Rick and his friend (T...) Kitty\n"
     ]
    }
   ],
   "source": [
    "from experta import P, AS\n",
    "\n",
    "# Предикат створюється за допомогою класу P який приймає булеву лямбда-функцию\n",
    "# Оператор AS дозволяє передавати в середину методу цілу сутність, а не її атрибути як MATCH\n",
    "\n",
    "class Example(ExampleRules):\n",
    "    @Rule(\n",
    "        AS.person << Person(\n",
    "            name=P(lambda x: len(x) <  5),\n",
    "            friends=P(lambda x: [True for name in x if name[0] == \"T\"])\n",
    "        )\n",
    "    )\n",
    "    def PredicateFindAnimals(self, person):\n",
    "        for fr in person.as_dict()[\"friends\"]:\n",
    "            print(f'{person.as_dict()[\"name\"]} and his friend (T...) {fr}' )\n",
    "        \n",
    "engine = Example()\n",
    "engine.reset()\n",
    "engine.run()"
   ]
  },
  {
   "cell_type": "markdown",
   "metadata": {},
   "source": [
    "Задайте правила у яких використовуються обмеження, що повертають значення:\n",
    "\n",
    "    Дане правило знайде всіх тварин у яких середня вага в 5 разів перевищує вік:\n",
    "CLIPS:\n",
    "```CLIPS\n",
    "(defrule ReturnFindAnimals\n",
    "        (person (name ?xname) (animal_kind ?ac) (age ?age))\n",
    "        (animal (name ?ac) (approx_weight ?aw&=(* 5 ?age)))\n",
    "        =>\n",
    "        (printout t crlf “Animal ”  ?xname “, kind =  ” ?ac “, weight =  ” ?aw “, age =  ” ?age crlf)\n",
    "        )\n",
    "``` \n",
    "Python немає прямих аналогів таких обмежень, найкращим вибором буде використовувати клас TEST:"
   ]
  },
  {
   "cell_type": "code",
   "execution_count": 17,
   "metadata": {},
   "outputs": [
    {
     "name": "stdout",
     "output_type": "stream",
     "text": [
      "dog dog 3 20\n"
     ]
    }
   ],
   "source": [
    "from experta import TEST\n",
    "\n",
    "# TEST дозволяє створювати більш складні предикати\n",
    "# MATCH передає зміні не тільки в функцію, але і у TEST\n",
    "\n",
    "class Example(ExampleRules):\n",
    "    @Rule(Person(animal_kind=MATCH.animal_kind, age=MATCH.age),\n",
    "          Animal(name=MATCH.name, approx_weight=MATCH.approx_weight),\n",
    "          TEST(lambda name, animal_kind: animal_kind == name),\n",
    "          TEST(lambda age, approx_weight: age < approx_weight / 5)\n",
    "         )\n",
    "    def f(self, name, age, animal_kind, approx_weight):\n",
    "        print(name, animal_kind, age, approx_weight)\n",
    "\n",
    "engine = Example()\n",
    "engine.reset()\n",
    "engine.run()"
   ]
  },
  {
   "cell_type": "markdown",
   "metadata": {},
   "source": [
    "##### Задайте правила з використанням умовного елементу test.\n",
    "\n",
    "\tЦе правило знаходить усі можливі пари тварин у яких перша тварина має більший зріст ніж друга і на екран виводяться назви цих тварин: \n",
    "CLIPS:\n",
    "```CLIPS\n",
    "(defrule TestRule\n",
    "        (animal (name ?n1) (approx_height ?h1))\n",
    "        (animal (name ?n2) (approx_height ?h2))\n",
    "        (test (> ?h1 ?h2))\n",
    "        =>\n",
    "        (printout t crlf ?n1 \" height > \" ?n2 \" height\" crlf)\n",
    "        )\n",
    "```\n",
    "Python:"
   ]
  },
  {
   "cell_type": "code",
   "execution_count": 18,
   "metadata": {},
   "outputs": [
    {
     "name": "stdout",
     "output_type": "stream",
     "text": [
      "shark higest than wolf\n",
      "shark higest than dog\n",
      "dog higest than wolf\n"
     ]
    }
   ],
   "source": [
    "class Example(ExampleRules):\n",
    "    @Rule(\n",
    "        Animal(approx_height=MATCH.approx_height1, name=MATCH.n1),\n",
    "        Animal(approx_height=MATCH.approx_height2, name=MATCH.n2),\n",
    "        TEST(lambda approx_height1, approx_height2: approx_height1 > approx_height2)\n",
    "    )\n",
    "    def testRule(self, n1, n2):\n",
    "        print(n1, 'higest than', n2)\n",
    "        \n",
    "engine = Example()\n",
    "engine.reset()\n",
    "engine.run()"
   ]
  },
  {
   "cell_type": "markdown",
   "metadata": {},
   "source": [
    "\tЦе правило знаходить усі можливі пари тварин, які мають хвіст та у яких перша тварина має не меншу вагу ніж друга і на екран виводяться назви цих тварин: \n",
    "CLIPS\n",
    "```CLIPS\n",
    "(defrule TestRule1\n",
    "        (animal (name ?n1) (approx_weight ?h1) (tail 1))\n",
    "        (animal (name ?n2) (approx_weight ?h2) (tail 1))\n",
    "        (test (>= ?h1 ?h2))\n",
    "        =>\n",
    "        (printout t crlf ?n1 \" weight >= \" ?n2 \" weight\" crlf)\n",
    "        )\n",
    "```\n",
    "Python"
   ]
  },
  {
   "cell_type": "code",
   "execution_count": 21,
   "metadata": {},
   "outputs": [
    {
     "name": "stdout",
     "output_type": "stream",
     "text": [
      "wolf more heavily than shark\n",
      "shark more heavily than wolf\n",
      "dog more heavily than shark\n",
      "shark more heavily than shark\n",
      "dog more heavily than wolf\n",
      "wolf more heavily than wolf\n",
      "dog more heavily than dog\n"
     ]
    }
   ],
   "source": [
    "class Example(ExampleRules):\n",
    "    @Rule(\n",
    "        Animal(approx_weight=MATCH.approx1, name=MATCH.n1, tail=1),\n",
    "        Animal(approx_weight=MATCH.approx2, name=MATCH.n2, tail=1),\n",
    "        TEST(lambda approx1, approx2: approx1 >= approx2)\n",
    "    )\n",
    "    def testRule1(self, n1, n2):\n",
    "        print(n1, 'more heavily than', n2)\n",
    "        \n",
    "engine = Example()\n",
    "engine.reset()\n",
    "engine.run()"
   ]
  },
  {
   "cell_type": "code",
   "execution_count": null,
   "metadata": {},
   "outputs": [],
   "source": []
  }
 ],
 "metadata": {
  "kernelspec": {
   "display_name": "Python 3",
   "language": "python",
   "name": "python3"
  },
  "language_info": {
   "codemirror_mode": {
    "name": "ipython",
    "version": 3
   },
   "file_extension": ".py",
   "mimetype": "text/x-python",
   "name": "python",
   "nbconvert_exporter": "python",
   "pygments_lexer": "ipython3",
   "version": "3.8.3"
  }
 },
 "nbformat": 4,
 "nbformat_minor": 4
}
