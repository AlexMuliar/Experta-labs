{
 "cells": [
  {
   "cell_type": "code",
   "execution_count": 1,
   "metadata": {},
   "outputs": [
    {
     "name": "stdout",
     "output_type": "stream",
     "text": [
      "1.5\n",
      "1.3333333333333333\n"
     ]
    }
   ],
   "source": [
    "def avarage(x, y):\n",
    "    print((x + y) / 2)\n",
    "    \n",
    "def avarage3(x, y, z):\n",
    "    print((x + y + z) / 3)\n",
    "    \n",
    "    \n",
    "avarage(1, 2)\n",
    "avarage3(1, 2, 1)"
   ]
  },
  {
   "cell_type": "code",
   "execution_count": 2,
   "metadata": {},
   "outputs": [
    {
     "name": "stdout",
     "output_type": "stream",
     "text": [
      "Animal of type <UNKNOWN> has weight in range (0.5 to 1.2)\n",
      "Animal of type <UNKNOWN> has weight in range (0.3 to 0.6)\n",
      "Animal of type Sobaka has weight in range (5 to 10)\n",
      "Animal of type Velika Sobaka has weight in range (10 to 25)\n"
     ]
    }
   ],
   "source": [
    "def showWeight(x, y, name='<UNKNOWN>'):\n",
    "    print(f'Animal of type {name} has weight in range ({min(x, y)} to {max(x, y)})')\n",
    "\n",
    "showWeight(0.5, 1.2)\n",
    "showWeight(0.6, 0.3)\n",
    "showWeight(5, 10, 'Sobaka')\n",
    "showWeight(25, 10, 'Velika Sobaka')"
   ]
  },
  {
   "cell_type": "code",
   "execution_count": null,
   "metadata": {},
   "outputs": [],
   "source": []
  }
 ],
 "metadata": {
  "kernelspec": {
   "display_name": "Python 3",
   "language": "python",
   "name": "python3"
  },
  "language_info": {
   "codemirror_mode": {
    "name": "ipython",
    "version": 3
   },
   "file_extension": ".py",
   "mimetype": "text/x-python",
   "name": "python",
   "nbconvert_exporter": "python",
   "pygments_lexer": "ipython3",
   "version": "3.8.3"
  }
 },
 "nbformat": 4,
 "nbformat_minor": 4
}
