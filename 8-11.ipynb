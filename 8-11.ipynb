{
 "cells": [
  {
   "cell_type": "code",
   "execution_count": 1,
   "metadata": {},
   "outputs": [],
   "source": [
    "from experta import Fact, Rule, KnowledgeEngine, Field, DefFacts, AS, factlist, MATCH, TEST, AND, OR, P, L, W, EXISTS, NOT, FORALL\n",
    "import schema"
   ]
  },
  {
   "cell_type": "code",
   "execution_count": 2,
   "metadata": {},
   "outputs": [],
   "source": [
    "class Animal(Fact):\n",
    "    name = Field(str, mandatory=True)\n",
    "    approx_weight = Field(int, mandatory=True)\n",
    "    approx_height = Field(int, mandatory=True)\n",
    "    tail = Field(int, mandatory=True)\n",
    "    character = Field(str, mandatory=True)\n",
    "    water = Field(bool, mandatory=True)\n",
    "    related_animals = Field(list, mandatory=True)"
   ]
  },
  {
   "cell_type": "code",
   "execution_count": 3,
   "metadata": {},
   "outputs": [],
   "source": [
    "class Person(Fact):\n",
    "    name = Field(str, mandatory=False)\n",
    "    animal_kind = Field(str, mandatory=True)\n",
    "    age = Field(int, mandatory=True)\n",
    "    friends = Field(list, mandatory=False)"
   ]
  },
  {
   "cell_type": "code",
   "execution_count": 4,
   "metadata": {},
   "outputs": [],
   "source": [
    "class Lab(KnowledgeEngine):\n",
    "    @DefFacts()\n",
    "    def init_pets(self):\n",
    "        yield Animal(name='dog', approx_weight=20, approx_height=30, tail=1, character='strong', water=False, land=True, related_animals=['cat', 'wolf'])\n",
    "        yield Animal(name='cat', approx_weight=4, approx_height=10, tail=1, character='sweet', water=False, land=True, related_animals=['wolf', 'dog'])      \n",
    "        yield Animal(name='wolf', approx_weight=4, approx_height=40, tail=1, character='bad', water=False, land=True, related_animals=['wolf', 'cat'])      \n",
    "\n",
    "    \n",
    "    @DefFacts()\n",
    "    def init_persons(self):\n",
    "        yield Person(name=\"Rick\", animal_kind='dog', age=3, friends=['Tim', 'Kitty'])\n",
    "        yield Person(name=\"Tim\", animal_kind='dog', age=4, friends=['Rick'])\n",
    "        yield Person(name=\"Kitty\", animal_kind='dog', age=4, friends=['Rick'])\n",
    "        yield Person(animal_kind='mollusc', age=1)\n",
    "    \n",
    "    @Rule(\n",
    "        Animal(approx_height=MATCH.approx_height1, name=MATCH.n1),\n",
    "        Animal(approx_height=MATCH.approx_height2, name=MATCH.n2),\n",
    "        TEST(lambda approx_height1, approx_height2: approx_height1 > approx_height2)\n",
    "    )\n",
    "    def testRule(self, n1, n2):\n",
    "        print(n1, 'higest than', n2)\n",
    "        \n",
    "    @Rule(\n",
    "        Animal(approx_weight=MATCH.approx1, name=MATCH.n1, tail=1),\n",
    "        Animal(approx_weight=MATCH.approx2, name=MATCH.n2, tail=1),\n",
    "        TEST(lambda approx1, approx2: approx1 >= approx2)\n",
    "    )\n",
    "    def testRule1(self, n1, n2):\n",
    "        print(n1, 'more heavily than', n2)\n",
    "        \n",
    "    \n",
    "    @Rule(OR(Animal(tail=1, name=MATCH.name),\n",
    "            Animal(water=True, name=MATCH.name))\n",
    "    )\n",
    "    def orAndNotRule(self, name):\n",
    "        print('orAndNotRule', name)\n",
    "        \n",
    "    @Rule(OR(\n",
    "        Person(name=MATCH.name, animal_kind='cat'),\n",
    "        Person(name=MATCH.name, friends=P(lambda x: \"Kitty\" in x))\n",
    "    ))\n",
    "    def orAndNotRule1(self, name):\n",
    "        print(\"orAndNotRule1\", name)\n",
    "     \n",
    "\n",
    "    @Rule(OR(\n",
    "        AND(Animal(name=MATCH.name, character='bad'),\n",
    "                   Animal(name=MATCH.name, water=~L(True))\n",
    "           ),\n",
    "        Animal(name=MATCH.name, related_animals=P(lambda x: 'cat' in x))\n",
    "    ))\n",
    "    def orAndNotRule2(self, name):\n",
    "        print(\"orAndNotRule2\", name)\n",
    "        \n",
    "    \n",
    "    @Rule(\n",
    "        EXISTS(Animal(related_animals=P(lambda x: 'dog' in x)))\n",
    "    )\n",
    "    def existsRule(self):\n",
    "        print(\"existsRule: Found tailed dog’s relatives\")\n",
    "    \n",
    "    \n",
    "    @Rule(\n",
    "        NOT(NOT((Animal(related_animals=P(lambda x: 'dog' in x)))))\n",
    "    )\n",
    "    def existsRule1(self):\n",
    "        print(\"existsRule1: Found tailed dog’s relatives\")\n",
    "        \n",
    "        \n",
    "    @Rule(\n",
    "        FORALL(\n",
    "            Animal(tail=1),\n",
    "            Animal(land=True)\n",
    "        )\n",
    "    )\n",
    "    def forAllRule(self):\n",
    "        print('ForAllRule: All land animals are tailed')\n",
    "        \n",
    "     \n",
    "    @Rule(\n",
    "        NOT(\n",
    "            AND(\n",
    "                Animal(tail=1),\n",
    "                NOT(Animal(land=True))\n",
    "            )\n",
    "        )\n",
    "    )   \n",
    "    def ForAllRule1(self):\n",
    "        print('ForAllRule1: All land animals are tailed')"
   ]
  },
  {
   "cell_type": "code",
   "execution_count": 5,
   "metadata": {},
   "outputs": [],
   "source": [
    "eng = Lab()\n",
    "eng.reset()"
   ]
  },
  {
   "cell_type": "code",
   "execution_count": 6,
   "metadata": {},
   "outputs": [
    {
     "name": "stdout",
     "output_type": "stream",
     "text": [
      "wolf higest than cat\n",
      "wolf more heavily than cat\n",
      "cat more heavily than wolf\n",
      "wolf higest than dog\n",
      "dog more heavily than wolf\n",
      "ForAllRule1: All land animals are tailed\n",
      "wolf more heavily than wolf\n",
      "orAndNotRule2 wolf\n",
      "orAndNotRule2 wolf\n",
      "orAndNotRule wolf\n",
      "dog higest than cat\n",
      "dog more heavily than cat\n",
      "existsRule1: Found tailed dog’s relatives\n",
      "ForAllRule1: All land animals are tailed\n",
      "cat more heavily than cat\n",
      "orAndNotRule cat\n",
      "ForAllRule1: All land animals are tailed\n",
      "dog more heavily than dog\n",
      "orAndNotRule2 dog\n",
      "orAndNotRule dog\n",
      "orAndNotRule1 Rick\n",
      "existsRule: Found tailed dog’s relatives\n",
      "ForAllRule: All land animals are tailed\n"
     ]
    }
   ],
   "source": [
    "eng.run()"
   ]
  },
  {
   "cell_type": "code",
   "execution_count": 7,
   "metadata": {},
   "outputs": [
    {
     "data": {
      "text/plain": [
       "FactList()"
      ]
     },
     "execution_count": 7,
     "metadata": {},
     "output_type": "execute_result"
    }
   ],
   "source": [
    "eng.facts.clear()\n",
    "eng.facts"
   ]
  },
  {
   "cell_type": "code",
   "execution_count": null,
   "metadata": {},
   "outputs": [],
   "source": []
  }
 ],
 "metadata": {
  "kernelspec": {
   "display_name": "Python 3",
   "language": "python",
   "name": "python3"
  },
  "language_info": {
   "codemirror_mode": {
    "name": "ipython",
    "version": 3
   },
   "file_extension": ".py",
   "mimetype": "text/x-python",
   "name": "python",
   "nbconvert_exporter": "python",
   "pygments_lexer": "ipython3",
   "version": "3.8.3"
  }
 },
 "nbformat": 4,
 "nbformat_minor": 4
}
