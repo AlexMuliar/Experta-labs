{
 "cells": [
  {
   "cell_type": "code",
   "execution_count": 1,
   "metadata": {},
   "outputs": [],
   "source": [
    "from experta import Fact, Rule, KnowledgeEngine, Field, DefFacts, AS, factlist, MATCH\n",
    "import schema"
   ]
  },
  {
   "cell_type": "markdown",
   "metadata": {},
   "source": [
    "Хід роботи\n",
    "\n",
    "1. Оберіть предметну область.\n",
    "2. Задайте в середовищі CLIPS певну кількість шаблонів, використовуючи конструктор deftemplate, за допомогою яких в подальшому можна буде створювати нові факти.\n",
    "3. Перевірте правильність створення шаблонів за допомогою менеджера шаблонів (Deftemplate manager) [якщо шаблони створені без помилок, то вони будуть відображатись в списку шаблонів поряд із стандартним шаблоном initial-fact].\n",
    "4. Створіть список фактів за допомогою конструктора deffacts.\n",
    "5. Додайте декілька фактів за допомогою функції assert.\n",
    "6. Перевірте, чи добавлені факти за допомогою команди facts.\n",
    "7. Видаліть всі факти з непарними індексами за допомгою функції retract.\n",
    "8. Змініть будь-який слот в певному факті за допомгою функції modify.\n",
    "9. Виконайте команду clear для видалення всіх фактів і перевірте, чи видалились всі факти за допомогою команди facts.\n"
   ]
  },
  {
   "cell_type": "raw",
   "metadata": {},
   "source": [
    " (deftemplate animal\n",
    "             (slot name)\n",
    "             (slot approx_weight)\n",
    "             (slot approx_height)\n",
    "             (slot tail)\n",
    "             (slot character)\n",
    "             (multislot related_animals))"
   ]
  },
  {
   "cell_type": "code",
   "execution_count": 2,
   "metadata": {},
   "outputs": [],
   "source": [
    "class Animal(Fact):\n",
    "    name = Field(str, mandatory=True)\n",
    "    approx_weight = Field(int, mandatory=True)\n",
    "    approx_height = Field(int, mandatory=True)\n",
    "    tail = Field(int, mandatory=True)\n",
    "    character = Field(str, mandatory=True)\n",
    "    related_animals = Field(list, mandatory=True)"
   ]
  },
  {
   "cell_type": "raw",
   "metadata": {},
   "source": [
    "(deftemplate person\n",
    "             (slot name)\n",
    "             (slot animal_kind)\n",
    "             (slot age)\n",
    "             (multislot friends)) "
   ]
  },
  {
   "cell_type": "code",
   "execution_count": 3,
   "metadata": {},
   "outputs": [],
   "source": [
    "class Person(Fact):\n",
    "    name = Field(str, mandatory=False)\n",
    "    animal_kind = Field(str, mandatory=True)\n",
    "    age = Field(int, mandatory=True)\n",
    "    friends = Field(list, mandatory=False)"
   ]
  },
  {
   "cell_type": "code",
   "execution_count": 4,
   "metadata": {},
   "outputs": [],
   "source": [
    "class Init(Fact):\n",
    "    pass"
   ]
  },
  {
   "cell_type": "raw",
   "metadata": {},
   "source": [
    "(deffacts initfacts \"Initial Facts\"\n",
    "             (dogs are our friends)\n",
    "             (animal (name dog) (approx_weight 20) (approx_height 30) (tail 1)\n",
    "              (related_animals cat wolf) (character strong)\n",
    "             )\n",
    "             (animal (name cat) (approx_weight 4) (approx_height 10) (tail 1)\n",
    "              (character sweet) (related_animals dog wolf)\n",
    "             )\n",
    "             (animal (name wolf) (approx_weight 4) (approx_height 40) (character bad)\n",
    "             (tail 1)\n",
    "              (related_animals dog wolf)\n",
    "             )\n",
    ")\n",
    "(assert (person (name Rick) (animal_kind dog) (age 3) (friends Tim Kitty)))\n",
    "(assert (person (name Tim) (animal_kind dog) (age 4) (friends Rick)))\n",
    "(assert (person (name Kitty) (animal_kind cat) (age 4) (friends Rick)))\n",
    "(assert (person (animal_kind mollusc) (age 1) (friends)))"
   ]
  },
  {
   "cell_type": "code",
   "execution_count": 5,
   "metadata": {},
   "outputs": [],
   "source": [
    "class InitialFacts(KnowledgeEngine):\n",
    "    @DefFacts()\n",
    "    def init_pets(self):\n",
    "        yield Animal(name='dog', approx_weight=20, approx_height=30, tail=1, character='strong', related_animals=['cat', 'wolf'])\n",
    "        yield Animal(name='cat', approx_weight=4, approx_height=10, tail=1, character='sweet', related_animals=['wolf', 'dog'])      \n",
    "        yield Animal(name='wolf', approx_weight=4, approx_height=40, tail=1, character='bad', related_animals=['wolf', 'cat'])      \n",
    "\n",
    "    \n",
    "    @Rule(AS.f1 << Init(program='start'))\n",
    "    def init_persons(self):\n",
    "        self.declare(Person(name=\"Rick\", animal_kind='dog', age=3, friends=['Tim', 'Kitty']))\n",
    "        self.declare(Person(name=\"Tim\", animal_kind='dog', age=4, friends=['Rick']))\n",
    "        self.declare(Person(name=\"Kitty\", animal_kind='dog', age=4, friends=['Rick'])) \n",
    "        self.declare(Person(animal_kind='mollusc', age=1))                        "
   ]
  },
  {
   "cell_type": "code",
   "execution_count": 6,
   "metadata": {},
   "outputs": [],
   "source": [
    "eng = InitialFacts()\n",
    "eng.reset()\n",
    "eng.init_persons()"
   ]
  },
  {
   "cell_type": "code",
   "execution_count": 7,
   "metadata": {},
   "outputs": [
    {
     "data": {
      "text/plain": [
       "FactList([(0, InitialFact()),\n",
       "          (1,\n",
       "           Animal(name='dog', approx_weight=20, approx_height=30, tail=1, character='strong', related_animals=frozenlist(['cat', 'wolf']))),\n",
       "          (2,\n",
       "           Animal(name='cat', approx_weight=4, approx_height=10, tail=1, character='sweet', related_animals=frozenlist(['wolf', 'dog']))),\n",
       "          (3,\n",
       "           Animal(name='wolf', approx_weight=4, approx_height=40, tail=1, character='bad', related_animals=frozenlist(['wolf', 'cat']))),\n",
       "          (4,\n",
       "           Person(name='Rick', animal_kind='dog', age=3, friends=frozenlist(['Tim', 'Kitty']))),\n",
       "          (5,\n",
       "           Person(name='Tim', animal_kind='dog', age=4, friends=frozenlist(['Rick',]))),\n",
       "          (6,\n",
       "           Person(name='Kitty', animal_kind='dog', age=4, friends=frozenlist(['Rick',]))),\n",
       "          (7, Person(animal_kind='mollusc', age=1))])"
      ]
     },
     "execution_count": 7,
     "metadata": {},
     "output_type": "execute_result"
    }
   ],
   "source": [
    "eng.facts"
   ]
  },
  {
   "cell_type": "raw",
   "metadata": {},
   "source": [
    "(retract 1 3)"
   ]
  },
  {
   "cell_type": "code",
   "execution_count": 8,
   "metadata": {},
   "outputs": [],
   "source": [
    "eng.retract(4)\n",
    "eng.retract(6)"
   ]
  },
  {
   "cell_type": "code",
   "execution_count": 9,
   "metadata": {},
   "outputs": [
    {
     "ename": "KeyError",
     "evalue": "4",
     "output_type": "error",
     "traceback": [
      "\u001b[1;31m---------------------------------------------------------------------------\u001b[0m",
      "\u001b[1;31mKeyError\u001b[0m                                  Traceback (most recent call last)",
      "\u001b[1;32m<ipython-input-9-4f27dec8b4b8>\u001b[0m in \u001b[0;36m<module>\u001b[1;34m\u001b[0m\n\u001b[1;32m----> 1\u001b[1;33m \u001b[0meng\u001b[0m\u001b[1;33m.\u001b[0m\u001b[0mfacts\u001b[0m\u001b[1;33m[\u001b[0m\u001b[1;36m4\u001b[0m\u001b[1;33m]\u001b[0m\u001b[1;33m,\u001b[0m \u001b[0meng\u001b[0m\u001b[1;33m.\u001b[0m\u001b[0mfacts\u001b[0m\u001b[1;33m[\u001b[0m\u001b[1;36m6\u001b[0m\u001b[1;33m]\u001b[0m\u001b[1;33m\u001b[0m\u001b[1;33m\u001b[0m\u001b[0m\n\u001b[0m",
      "\u001b[1;31mKeyError\u001b[0m: 4"
     ]
    }
   ],
   "source": [
    "eng.facts[4], eng.facts[6] "
   ]
  },
  {
   "cell_type": "raw",
   "metadata": {},
   "source": [
    "(modify 0 (age 5))"
   ]
  },
  {
   "cell_type": "code",
   "execution_count": 10,
   "metadata": {},
   "outputs": [
    {
     "data": {
      "text/plain": [
       "FactList([(0, InitialFact()),\n",
       "          (1,\n",
       "           Animal(name='dog', approx_weight=20, approx_height=30, tail=1, character='strong', related_animals=frozenlist(['cat', 'wolf']))),\n",
       "          (2,\n",
       "           Animal(name='cat', approx_weight=4, approx_height=10, tail=1, character='sweet', related_animals=frozenlist(['wolf', 'dog']))),\n",
       "          (3,\n",
       "           Animal(name='wolf', approx_weight=4, approx_height=40, tail=1, character='bad', related_animals=frozenlist(['wolf', 'cat']))),\n",
       "          (7, Person(animal_kind='mollusc', age=1)),\n",
       "          (8,\n",
       "           Person(name='Tim', animal_kind='dog', age=5, friends=frozenlist(['Rick',])))])"
      ]
     },
     "execution_count": 10,
     "metadata": {},
     "output_type": "execute_result"
    }
   ],
   "source": [
    "eng.declare(eng.modify(eng.facts[5], age=5))\n",
    "eng.facts"
   ]
  },
  {
   "cell_type": "raw",
   "metadata": {},
   "source": [
    "(clear)\n",
    "(facts)"
   ]
  },
  {
   "cell_type": "code",
   "execution_count": null,
   "metadata": {},
   "outputs": [],
   "source": [
    "eng.facts.clear()\n",
    "eng.facts"
   ]
  },
  {
   "cell_type": "code",
   "execution_count": null,
   "metadata": {},
   "outputs": [],
   "source": []
  }
 ],
 "metadata": {
  "kernelspec": {
   "display_name": "Python 3",
   "language": "python",
   "name": "python3"
  },
  "language_info": {
   "codemirror_mode": {
    "name": "ipython",
    "version": 3
   },
   "file_extension": ".py",
   "mimetype": "text/x-python",
   "name": "python",
   "nbconvert_exporter": "python",
   "pygments_lexer": "ipython3",
   "version": "3.8.3"
  }
 },
 "nbformat": 4,
 "nbformat_minor": 4
}
